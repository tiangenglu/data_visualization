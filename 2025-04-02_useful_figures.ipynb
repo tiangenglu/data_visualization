{
 "cells": [
  {
   "cell_type": "code",
   "execution_count": 1,
   "id": "685c7886",
   "metadata": {},
   "outputs": [],
   "source": [
    "import os\n",
    "import numpy as np\n",
    "import pandas as pd\n",
    "import time as tm\n",
    "from matplotlib import pyplot as plt\n",
    "import seaborn as sns"
   ]
  },
  {
   "cell_type": "code",
   "execution_count": 2,
   "id": "7566ce78",
   "metadata": {},
   "outputs": [],
   "source": [
    "df = pd.read_csv(\"visa_alltime.csv\")\n",
    "df['time']=pd.to_datetime(df['time'])\n",
    "df['month'] = [t.strftime(\"%B\") for t in df['time']]\n",
    "df['year'] = [t.strftime(\"%Y\") for t in df['time']]\n",
    "df['count_sqrt'] = np.sqrt(df['count'])\n",
    "df['count_log'] = np.log(df['count']+0.001)"
   ]
  },
  {
   "cell_type": "code",
   "execution_count": 15,
   "id": "02a58231",
   "metadata": {},
   "outputs": [
    {
     "data": {
      "text/plain": [
       "nationality                 MEXICO\n",
       "visa                         BBBCC\n",
       "count                       205108\n",
       "time           2025-01-31 00:00:00\n",
       "type                             N\n",
       "month                      January\n",
       "year                          2025\n",
       "count_sqrt              452.888507\n",
       "count_log                12.231292\n",
       "Name: 487009, dtype: object"
      ]
     },
     "execution_count": 15,
     "metadata": {},
     "output_type": "execute_result"
    }
   ],
   "source": [
    "df.iloc[df['count'].idxmax()]"
   ]
  },
  {
   "cell_type": "code",
   "execution_count": 4,
   "id": "9e713057",
   "metadata": {},
   "outputs": [],
   "source": [
    "df_agg_visa=df.pivot_table(\n",
    "    index = ['year','type','nationality'], \n",
    "    values = 'count', \n",
    "    aggfunc = 'sum').reset_index()"
   ]
  },
  {
   "cell_type": "code",
   "execution_count": 5,
   "id": "c467c787",
   "metadata": {},
   "outputs": [
    {
     "data": {
      "text/html": [
       "<div>\n",
       "<style scoped>\n",
       "    .dataframe tbody tr th:only-of-type {\n",
       "        vertical-align: middle;\n",
       "    }\n",
       "\n",
       "    .dataframe tbody tr th {\n",
       "        vertical-align: top;\n",
       "    }\n",
       "\n",
       "    .dataframe thead th {\n",
       "        text-align: right;\n",
       "    }\n",
       "</style>\n",
       "<table border=\"1\" class=\"dataframe\">\n",
       "  <thead>\n",
       "    <tr style=\"text-align: right;\">\n",
       "      <th></th>\n",
       "      <th>year</th>\n",
       "      <th>type</th>\n",
       "      <th>nationality</th>\n",
       "      <th>count</th>\n",
       "    </tr>\n",
       "  </thead>\n",
       "  <tbody>\n",
       "    <tr>\n",
       "      <th>0</th>\n",
       "      <td>2017</td>\n",
       "      <td>I</td>\n",
       "      <td>AFGHANISTAN</td>\n",
       "      <td>14430</td>\n",
       "    </tr>\n",
       "    <tr>\n",
       "      <th>1</th>\n",
       "      <td>2017</td>\n",
       "      <td>I</td>\n",
       "      <td>ALBANIA</td>\n",
       "      <td>3360</td>\n",
       "    </tr>\n",
       "    <tr>\n",
       "      <th>2</th>\n",
       "      <td>2017</td>\n",
       "      <td>I</td>\n",
       "      <td>ALGERIA</td>\n",
       "      <td>1478</td>\n",
       "    </tr>\n",
       "    <tr>\n",
       "      <th>3</th>\n",
       "      <td>2017</td>\n",
       "      <td>I</td>\n",
       "      <td>ANGOLA</td>\n",
       "      <td>55</td>\n",
       "    </tr>\n",
       "    <tr>\n",
       "      <th>4</th>\n",
       "      <td>2017</td>\n",
       "      <td>I</td>\n",
       "      <td>ANGUILLA</td>\n",
       "      <td>10</td>\n",
       "    </tr>\n",
       "  </tbody>\n",
       "</table>\n",
       "</div>"
      ],
      "text/plain": [
       "   year type  nationality  count\n",
       "0  2017    I  AFGHANISTAN  14430\n",
       "1  2017    I      ALBANIA   3360\n",
       "2  2017    I      ALGERIA   1478\n",
       "3  2017    I       ANGOLA     55\n",
       "4  2017    I     ANGUILLA     10"
      ]
     },
     "execution_count": 5,
     "metadata": {},
     "output_type": "execute_result"
    }
   ],
   "source": [
    "df_agg_visa.head()"
   ]
  },
  {
   "cell_type": "markdown",
   "id": "49b48410",
   "metadata": {},
   "source": [
    "# Univariate Distribution"
   ]
  },
  {
   "cell_type": "markdown",
   "id": "5dca058d",
   "metadata": {},
   "source": [
    "## `sns.stripplot()`"
   ]
  },
  {
   "cell_type": "code",
   "execution_count": 33,
   "id": "a58841ed",
   "metadata": {},
   "outputs": [
    {
     "data": {
      "image/png": "[encoded data removed]",
      "text/plain": [
       "<Figure size 1200x200 with 1 Axes>"
      ]
     },
     "metadata": {},
     "output_type": "display_data"
    }
   ],
   "source": [
    "plt.figure(figsize=(12, 2))\n",
    "plt.ticklabel_format(style='plain')\n",
    "sns.stripplot(data=df_agg_visa, x=\"count\", y=\"type\", jitter=True, orient=\"h\", hue = \"type\")\n",
    "current_values = plt.gca().get_xticks() # extract the default ticks\n",
    "# count is non-negative, filter out negative values in the array\n",
    "plt.xticks(current_values[current_values>=0]) # add this step to avoid warning\n",
    "# consistently reflect the non-negative count x-ticks in their formats\n",
    "plt.gca().set_xticklabels(['{:,.0f}'.format(x) for x in current_values[current_values>=0]])\n",
    "plt.title(\"Total Visa Issued by Nationality and Visa Type\")\n",
    "plt.show()"
   ]
  },
  {
   "cell_type": "code",
   "execution_count": 32,
   "id": "b88b46ee",
   "metadata": {},
   "outputs": [
    {
     "data": {
      "text/plain": [
       "array([      0.,  500000., 1000000., 1500000., 2000000., 2500000.,\n",
       "       3000000.])"
      ]
     },
     "execution_count": 32,
     "metadata": {},
     "output_type": "execute_result"
    }
   ],
   "source": [
    "current_values[current_values>=0]"
   ]
  },
  {
   "cell_type": "markdown",
   "id": "3e6f7886",
   "metadata": {},
   "source": [
    "## Histogram"
   ]
  },
  {
   "cell_type": "code",
   "execution_count": 25,
   "id": "97bcb7ff",
   "metadata": {},
   "outputs": [
    {
     "data": {
      "image/png": "[encoded data removed]",
      "text/plain": [
       "<Figure size 640x480 with 1 Axes>"
      ]
     },
     "metadata": {},
     "output_type": "display_data"
    }
   ],
   "source": [
    "sns.histplot(data = df, x = 'count_log', kde=True, hue = \"type\")\n",
    "current_values = plt.gca().get_yticks()\n",
    "plt.yticks(current_values) # add this step to avoid warning\n",
    "plt.gca().set_yticklabels(['{:,.0f}'.format(x) for x in current_values])\n",
    "plt.title('Histogram: Log-scale Monthly Visa Count')\n",
    "plt.show()"
   ]
  },
  {
   "cell_type": "code",
   "execution_count": 34,
   "id": "85eaceeb",
   "metadata": {},
   "outputs": [
    {
     "name": "stdout",
     "output_type": "stream",
     "text": [
      "<class 'pandas.core.frame.DataFrame'>\n",
      "RangeIndex: 488523 entries, 0 to 488522\n",
      "Data columns (total 9 columns):\n",
      " #   Column       Non-Null Count   Dtype         \n",
      "---  ------       --------------   -----         \n",
      " 0   nationality  488523 non-null  object        \n",
      " 1   visa         488523 non-null  object        \n",
      " 2   count        488523 non-null  int64         \n",
      " 3   time         488523 non-null  datetime64[ns]\n",
      " 4   type         488523 non-null  object        \n",
      " 5   month        488523 non-null  object        \n",
      " 6   year         488523 non-null  object        \n",
      " 7   count_sqrt   488523 non-null  float64       \n",
      " 8   count_log    488523 non-null  float64       \n",
      "dtypes: datetime64[ns](1), float64(2), int64(1), object(5)\n",
      "memory usage: 33.5+ MB\n"
     ]
    }
   ],
   "source": [
    "df.info()"
   ]
  },
  {
   "cell_type": "code",
   "execution_count": 37,
   "id": "b05510d1",
   "metadata": {},
   "outputs": [
    {
     "data": {
      "text/plain": [
       "array(['AFGHANISTAN', 'ALBANIA', 'ALGERIA', 'ANGOLA',\n",
       "       'ANTIGUA AND BARBUDA', 'ARGENTINA', 'ARMENIA', 'ARUBA',\n",
       "       'AUSTRALIA', 'AUSTRIA', 'AZERBAIJAN', 'BAHAMAS, THE', 'BAHRAIN',\n",
       "       'BANGLADESH', 'BARBADOS', 'BELARUS', 'BELGIUM', 'BELIZE', 'BENIN',\n",
       "       'BERMUDA', 'BHUTAN', 'BOLIVIA', 'BOSNIA AND HERZEGOVINA',\n",
       "       'BOTSWANA', 'BRAZIL', 'BRITISH VIRGIN ISLANDS', 'BULGARIA',\n",
       "       'BURKINA FASO', 'BURMA', 'BURUNDI', 'CABO VERDE', 'CAMBODIA',\n",
       "       'CAMEROON', 'CANADA', 'CAYMAN ISLANDS', 'CENTRAL AFRICAN REPUBLIC',\n",
       "       'CHAD', 'CHILE', 'CHINA', 'TAIWAN', 'COLOMBIA', 'COMOROS',\n",
       "       'CONGO, DEMOCRATIC REPUBLIC OF THE', 'CONGO, REPUBLIC OF THE',\n",
       "       'COSTA RICA', \"COTE D'IVOIRE\", 'CROATIA', 'CUBA', 'CURACAO',\n",
       "       'CYPRUS', 'CZECH REPUBLIC', 'DENMARK', 'DJIBOUTI', 'DOMINICA',\n",
       "       'DOMINICAN REPUBLIC', 'ECUADOR', 'EGYPT', 'EL SALVADOR',\n",
       "       'EQUATORIAL GUINEA', 'ERITREA', 'ESTONIA', 'ETHIOPIA', 'FIJI',\n",
       "       'FINLAND', 'FRANCE', 'GABON', 'GAMBIA, THE', 'GEORGIA', 'GERMANY',\n",
       "       'GHANA', 'UNITED KINGDOM', 'GREECE', 'GRENADA', 'GUATEMALA',\n",
       "       'GUINEA', 'GUINEA-BISSAU', 'GUYANA', 'HAITI', 'HONDURAS',\n",
       "       'HONG KONG', 'HUNGARY', 'ICELAND', 'INDIA', 'INDONESIA', 'IRAN',\n",
       "       'IRAQ', 'IRELAND', 'ISRAEL', 'ITALY', 'JAMAICA', 'JAPAN', 'JORDAN',\n",
       "       'KAZAKHSTAN', 'KENYA', 'KOREA, SOUTH', 'KOSOVO', 'KUWAIT',\n",
       "       'KYRGYZSTAN', 'LAOS', 'LATVIA', 'LEBANON', 'LIBERIA', 'LIBYA',\n",
       "       'LITHUANIA', 'LUXEMBOURG', 'MACAU', 'MACEDONIA', 'MALAWI',\n",
       "       'MALAYSIA', 'MALI', 'MALTA', 'MAURITANIA', 'MAURITIUS', 'MEXICO',\n",
       "       'MOLDOVA', 'MONGOLIA', 'MONTENEGRO', 'MOROCCO', 'MOZAMBIQUE',\n",
       "       'NAMIBIA', 'NEPAL', 'NETHERLANDS', 'NEW ZEALAND', 'NICARAGUA',\n",
       "       'NIGER', 'NIGERIA', 'NORWAY', 'OMAN', 'PAKISTAN', 'PANAMA',\n",
       "       'PARAGUAY', 'PERU', 'PHILIPPINES', 'POLAND', 'PORTUGAL', 'QATAR',\n",
       "       'ROMANIA', 'RUSSIA', 'RWANDA', 'SAINT KITTS AND NEVIS',\n",
       "       'SAINT LUCIA', 'SAINT MARTIN', 'SAINT VINCENT AND THE GRENADINES',\n",
       "       'SAMOA', 'SAUDI ARABIA', 'SENEGAL', 'SERBIA', 'SIERRA LEONE',\n",
       "       'SINGAPORE', 'SINT MAARTEN', 'SLOVAKIA', 'SOMALIA', 'SOUTH AFRICA',\n",
       "       'SOUTH SUDAN', 'SPAIN', 'SRI LANKA', 'SUDAN', 'SURINAME', 'SWEDEN',\n",
       "       'SWITZERLAND', 'SYRIA', 'TAJIKISTAN', 'TANZANIA', 'THAILAND',\n",
       "       'TOGO', 'TONGA', 'TRINIDAD AND TOBAGO', 'TUNISIA', 'TURKEY',\n",
       "       'TURKMENISTAN', 'UGANDA', 'UKRAINE', 'UNITED ARAB EMIRATES',\n",
       "       'URUGUAY', 'UZBEKISTAN', 'VENEZUELA', 'VIETNAM', 'YEMEN', 'ZAMBIA',\n",
       "       'ZIMBABWE', 'ANDORRA', 'ANGUILLA', 'BRUNEI', 'GIBRALTAR',\n",
       "       'KIRIBATI', 'KOREA, NORTH', 'LESOTHO', 'LIECHTENSTEIN',\n",
       "       'MADAGASCAR', 'MALDIVES', 'MARSHALL ISLANDS, REPUBLIC OF THE',\n",
       "       'MICRONESIA, FEDERATED STATES OF', 'MONACO', 'MONTSERRAT', 'NAURU',\n",
       "       'NON-NATIONALITY BASED ISSUANCES',\n",
       "       'PALESTINIAN AUTHORITY TRAVEL DOCUMENT', 'PAPUA NEW GUINEA',\n",
       "       'SAN MARINO', 'SAO TOME AND PRINCIPE', 'SEYCHELLES', 'SLOVENIA',\n",
       "       'SOLOMON ISLANDS', 'ST LUCIA', 'ST. KITTS AND NEVIS',\n",
       "       'ST. VINCENT AND THE GRENADINES', 'SWAZILAND', 'TIMOR-LESTE',\n",
       "       'TURKS AND CAICOS ISLANDS', 'TUVALU', 'VANUATU', 'VATICAN CITY',\n",
       "       'MARSHALL ISLANDS', 'BOSNIA-HERZEGOVINA',\n",
       "       'DEMOCRATIC REPUBLIC OF THE CONGO', 'REPUBLIC OF PALAU',\n",
       "       'REPUBLIC OF THE CONGO', 'SUDAN, SOUTH',\n",
       "       'FEDERATED STATES OF MICRONESIA', 'WESTERN SAHARA',\n",
       "       'NORTHERN IRELAND (DV ONLY)', 'FRENCH POLYNESIA', 'NIUE',\n",
       "       'NEW CALEDONIA', 'ESWATINI', 'ST. HELENA', 'COOK ISLANDS', 'PALAU',\n",
       "       'NORTH MACEDONIA', 'CHRISTMAS ISLAND', 'GREENLAND',\n",
       "       'NON-NATIONLITY BASED ISSUANCES', 'MICRONESIA', 'BURKINA-FASO',\n",
       "       'NORTH KOREA', 'SOUTH KOREA', 'THE GAMBIA', 'BAHAMAS',\n",
       "       'CZEC REPUBLIC', 'KYRGYSTAN', 'ST. PIERRE AND MIQUELON',\n",
       "       'JERUSALEM', 'OTHER', 'SAINT MAARTEN', 'WALLIS AND FUTUNA',\n",
       "       'FAROE ISLANDS', 'COCOS (KEELING) ISLANDS',\n",
       "       'BRITISH INDIAN OCEAN TERRITORY', 'PITCAIRN', 'COCOS ISLANDS',\n",
       "       'NO NATIONALITY', 'UNKNOWN', 'GUADELOUPE'], dtype=object)"
      ]
     },
     "execution_count": 37,
     "metadata": {},
     "output_type": "execute_result"
    }
   ],
   "source": [
    "df.nationality.unique()"
   ]
  },
  {
   "cell_type": "code",
   "execution_count": 39,
   "id": "3ba79dc7",
   "metadata": {},
   "outputs": [],
   "source": [
    "spain=df.loc[df['nationality'] == 'SPAIN']"
   ]
  },
  {
   "cell_type": "code",
   "execution_count": 40,
   "id": "36474521",
   "metadata": {},
   "outputs": [
    {
     "data": {
      "text/html": [
       "<div>\n",
       "<style scoped>\n",
       "    .dataframe tbody tr th:only-of-type {\n",
       "        vertical-align: middle;\n",
       "    }\n",
       "\n",
       "    .dataframe tbody tr th {\n",
       "        vertical-align: top;\n",
       "    }\n",
       "\n",
       "    .dataframe thead th {\n",
       "        text-align: right;\n",
       "    }\n",
       "</style>\n",
       "<table border=\"1\" class=\"dataframe\">\n",
       "  <thead>\n",
       "    <tr style=\"text-align: right;\">\n",
       "      <th></th>\n",
       "      <th>nationality</th>\n",
       "      <th>visa</th>\n",
       "      <th>count</th>\n",
       "      <th>time</th>\n",
       "      <th>type</th>\n",
       "      <th>month</th>\n",
       "      <th>year</th>\n",
       "      <th>count_sqrt</th>\n",
       "      <th>count_log</th>\n",
       "    </tr>\n",
       "  </thead>\n",
       "  <tbody>\n",
       "    <tr>\n",
       "      <th>2076</th>\n",
       "      <td>SPAIN</td>\n",
       "      <td>CR1</td>\n",
       "      <td>9</td>\n",
       "      <td>2017-03-31</td>\n",
       "      <td>I</td>\n",
       "      <td>March</td>\n",
       "      <td>2017</td>\n",
       "      <td>3.000000</td>\n",
       "      <td>2.197336</td>\n",
       "    </tr>\n",
       "    <tr>\n",
       "      <th>2077</th>\n",
       "      <td>SPAIN</td>\n",
       "      <td>CR2</td>\n",
       "      <td>3</td>\n",
       "      <td>2017-03-31</td>\n",
       "      <td>I</td>\n",
       "      <td>March</td>\n",
       "      <td>2017</td>\n",
       "      <td>1.732051</td>\n",
       "      <td>1.098946</td>\n",
       "    </tr>\n",
       "    <tr>\n",
       "      <th>2078</th>\n",
       "      <td>SPAIN</td>\n",
       "      <td>DV1</td>\n",
       "      <td>2</td>\n",
       "      <td>2017-03-31</td>\n",
       "      <td>I</td>\n",
       "      <td>March</td>\n",
       "      <td>2017</td>\n",
       "      <td>1.414214</td>\n",
       "      <td>0.693647</td>\n",
       "    </tr>\n",
       "    <tr>\n",
       "      <th>2079</th>\n",
       "      <td>SPAIN</td>\n",
       "      <td>DV2</td>\n",
       "      <td>2</td>\n",
       "      <td>2017-03-31</td>\n",
       "      <td>I</td>\n",
       "      <td>March</td>\n",
       "      <td>2017</td>\n",
       "      <td>1.414214</td>\n",
       "      <td>0.693647</td>\n",
       "    </tr>\n",
       "    <tr>\n",
       "      <th>2080</th>\n",
       "      <td>SPAIN</td>\n",
       "      <td>DV3</td>\n",
       "      <td>3</td>\n",
       "      <td>2017-03-31</td>\n",
       "      <td>I</td>\n",
       "      <td>March</td>\n",
       "      <td>2017</td>\n",
       "      <td>1.732051</td>\n",
       "      <td>1.098946</td>\n",
       "    </tr>\n",
       "  </tbody>\n",
       "</table>\n",
       "</div>"
      ],
      "text/plain": [
       "     nationality visa  count       time type  month  year  count_sqrt  \\\n",
       "2076       SPAIN  CR1      9 2017-03-31    I  March  2017    3.000000   \n",
       "2077       SPAIN  CR2      3 2017-03-31    I  March  2017    1.732051   \n",
       "2078       SPAIN  DV1      2 2017-03-31    I  March  2017    1.414214   \n",
       "2079       SPAIN  DV2      2 2017-03-31    I  March  2017    1.414214   \n",
       "2080       SPAIN  DV3      3 2017-03-31    I  March  2017    1.732051   \n",
       "\n",
       "      count_log  \n",
       "2076   2.197336  \n",
       "2077   1.098946  \n",
       "2078   0.693647  \n",
       "2079   0.693647  \n",
       "2080   1.098946  "
      ]
     },
     "execution_count": 40,
     "metadata": {},
     "output_type": "execute_result"
    }
   ],
   "source": [
    "spain.head()"
   ]
  },
  {
   "cell_type": "markdown",
   "id": "a0f45462",
   "metadata": {},
   "source": [
    "## `sns.violinplot()` is picky about distribution!"
   ]
  },
  {
   "cell_type": "code",
   "execution_count": 63,
   "id": "f1c889b7",
   "metadata": {},
   "outputs": [
    {
     "data": {
      "image/png": "[encoded data removed]",
      "text/plain": [
       "<Figure size 1200x200 with 1 Axes>"
      ]
     },
     "metadata": {},
     "output_type": "display_data"
    }
   ],
   "source": [
    "plt.figure(figsize=(12, 2))\n",
    "plt.ticklabel_format(style='plain')\n",
    "sns.violinplot(data=spain, x=\"month\", y=\"count\", hue=\"type\", split=True, inner=\"quart\")\n",
    "plt.legend(loc = 'best',bbox_to_anchor=(1.1, 1.1)) # push the legend outside\n",
    "current_values = plt.gca().get_yticks()\n",
    "plt.yticks(current_values[current_values >=0]) # add this step to avoid warning\n",
    "plt.gca().set_yticklabels(['{:,.0f}'.format(y) for y in current_values[current_values >=0]])\n",
    "plt.show()"
   ]
  },
  {
   "cell_type": "code",
   "execution_count": null,
   "id": "5f7c39d8",
   "metadata": {},
   "outputs": [],
   "source": [
    "# tbc"
   ]
  }
 ],
 "metadata": {
  "hide_input": false,
  "kernelspec": {
   "display_name": "py-3-12-3-preview",
   "language": "python",
   "name": "python-312-preview"
  },
  "language_info": {
   "codemirror_mode": {
    "name": "ipython",
    "version": 3
   },
   "file_extension": ".py",
   "mimetype": "text/x-python",
   "name": "python",
   "nbconvert_exporter": "python",
   "pygments_lexer": "ipython3",
   "version": "3.12.3"
  },
  "toc": {
   "base_numbering": 1,
   "nav_menu": {},
   "number_sections": true,
   "sideBar": true,
   "skip_h1_title": false,
   "title_cell": "Table of Contents",
   "title_sidebar": "Contents",
   "toc_cell": false,
   "toc_position": {},
   "toc_section_display": true,
   "toc_window_display": false
  },
  "varInspector": {
   "cols": {
    "lenName": 16,
    "lenType": 16,
    "lenVar": 40
   },
   "kernels_config": {
    "python": {
     "delete_cmd_postfix": "",
     "delete_cmd_prefix": "del ",
     "library": "var_list.py",
     "varRefreshCmd": "print(var_dic_list())"
    },
    "r": {
     "delete_cmd_postfix": ") ",
     "delete_cmd_prefix": "rm(",
     "library": "var_list.r",
     "varRefreshCmd": "cat(var_dic_list()) "
    }
   },
   "types_to_exclude": [
    "module",
    "function",
    "builtin_function_or_method",
    "instance",
    "_Feature"
   ],
   "window_display": false
  }
 },
 "nbformat": 4,
 "nbformat_minor": 5
}
