{
 "cells": [
  {
   "cell_type": "markdown",
   "id": "0e25be17",
   "metadata": {},
   "source": [
    "# Scrape Data from [Census.gov](https://www2.census.gov)\n"
   ]
  },
  {
   "cell_type": "code",
   "execution_count": 9,
   "id": "0075f64a",
   "metadata": {},
   "outputs": [
    {
     "name": "stdout",
     "output_type": "stream",
     "text": [
      "System version: 3.12.2 | packaged by conda-forge | (main, Feb 16 2024, 21:00:12) [Clang 16.0.6 ]\n",
      "Last executed on 2025-02-08, Saturday, 02:48\n",
      "`requests` version: 2.31.0\n"
     ]
    }
   ],
   "source": [
    "import sys\n",
    "print(f'System version: {sys.version}')\n",
    "import os\n",
    "import time as tm\n",
    "print(f'Last executed on {tm.strftime(\"%Y-%m-%d, %A, %H:%M\")}')\n",
    "import requests # .get().content from a url\n",
    "print(f'`requests` version: {requests.__version__}')\n",
    "from scrapy import Selector # Selector(text =)\n",
    "from urllib import request # .urlretrieve(url, filename)\n",
    "import getpass"
   ]
  },
  {
   "cell_type": "code",
   "execution_count": 10,
   "id": "0fa669af",
   "metadata": {},
   "outputs": [
    {
     "name": "stdout",
     "output_type": "stream",
     "text": [
      "copy link here, and then press enter: ········\n"
     ]
    }
   ],
   "source": [
    "main_url = '{0}'.format(getpass.getpass('copy link here, and then press enter: '))"
   ]
  },
  {
   "cell_type": "code",
   "execution_count": 12,
   "id": "ba167992",
   "metadata": {},
   "outputs": [],
   "source": [
    "main_html = requests.get(main_url).content\n",
    "main_selector = Selector(text = main_html)\n",
    "# get the target objects to download\n",
    "all_links = main_selector.xpath(query = '//*[contains(@href, \".zip\")]/@href').extract()\n",
    "# get the FULL valid urls with \"http\"\n",
    "full_urls = [main_url + link for link in all_links if not link.startswith('http')]"
   ]
  },
  {
   "cell_type": "code",
   "execution_count": 18,
   "id": "bfcb30d5",
   "metadata": {},
   "outputs": [
    {
     "name": "stdout",
     "output_type": "stream",
     "text": [
      "Now downloading tl_2024_01_cd119.zip, 2025-02-08, 03:11:21\n",
      "Now downloading tl_2024_02_cd119.zip, 2025-02-08, 03:11:21\n",
      "Now downloading tl_2024_04_cd119.zip, 2025-02-08, 03:11:22\n",
      "Now downloading tl_2024_05_cd119.zip, 2025-02-08, 03:11:22\n",
      "Now downloading tl_2024_06_cd119.zip, 2025-02-08, 03:11:23\n",
      "Now downloading tl_2024_08_cd119.zip, 2025-02-08, 03:11:23\n",
      "Now downloading tl_2024_09_cd119.zip, 2025-02-08, 03:11:24\n",
      "Now downloading tl_2024_10_cd119.zip, 2025-02-08, 03:11:24\n",
      "Now downloading tl_2024_11_cd119.zip, 2025-02-08, 03:11:24\n",
      "Now downloading tl_2024_12_cd119.zip, 2025-02-08, 03:11:25\n",
      "Now downloading tl_2024_13_cd119.zip, 2025-02-08, 03:11:25\n",
      "Now downloading tl_2024_15_cd119.zip, 2025-02-08, 03:11:26\n",
      "Now downloading tl_2024_16_cd119.zip, 2025-02-08, 03:11:26\n",
      "Now downloading tl_2024_17_cd119.zip, 2025-02-08, 03:11:26\n",
      "Now downloading tl_2024_18_cd119.zip, 2025-02-08, 03:11:27\n",
      "Now downloading tl_2024_19_cd119.zip, 2025-02-08, 03:11:27\n",
      "Now downloading tl_2024_20_cd119.zip, 2025-02-08, 03:11:27\n",
      "Now downloading tl_2024_21_cd119.zip, 2025-02-08, 03:11:28\n",
      "Now downloading tl_2024_22_cd119.zip, 2025-02-08, 03:11:28\n",
      "Now downloading tl_2024_23_cd119.zip, 2025-02-08, 03:11:28\n",
      "Now downloading tl_2024_24_cd119.zip, 2025-02-08, 03:11:29\n",
      "Now downloading tl_2024_25_cd119.zip, 2025-02-08, 03:11:30\n",
      "Now downloading tl_2024_26_cd119.zip, 2025-02-08, 03:11:30\n",
      "Now downloading tl_2024_27_cd119.zip, 2025-02-08, 03:11:30\n",
      "Now downloading tl_2024_28_cd119.zip, 2025-02-08, 03:11:31\n",
      "Now downloading tl_2024_29_cd119.zip, 2025-02-08, 03:11:31\n",
      "Now downloading tl_2024_30_cd119.zip, 2025-02-08, 03:11:31\n",
      "Now downloading tl_2024_31_cd119.zip, 2025-02-08, 03:11:32\n",
      "Now downloading tl_2024_32_cd119.zip, 2025-02-08, 03:11:32\n",
      "Now downloading tl_2024_33_cd119.zip, 2025-02-08, 03:11:32\n",
      "Now downloading tl_2024_34_cd119.zip, 2025-02-08, 03:11:33\n",
      "Now downloading tl_2024_35_cd119.zip, 2025-02-08, 03:11:33\n",
      "Now downloading tl_2024_36_cd119.zip, 2025-02-08, 03:11:33\n",
      "Now downloading tl_2024_37_cd119.zip, 2025-02-08, 03:11:34\n",
      "Now downloading tl_2024_38_cd119.zip, 2025-02-08, 03:11:34\n",
      "Now downloading tl_2024_39_cd119.zip, 2025-02-08, 03:11:34\n",
      "Now downloading tl_2024_40_cd119.zip, 2025-02-08, 03:11:35\n",
      "Now downloading tl_2024_41_cd119.zip, 2025-02-08, 03:11:35\n",
      "Now downloading tl_2024_42_cd119.zip, 2025-02-08, 03:11:36\n",
      "Now downloading tl_2024_44_cd119.zip, 2025-02-08, 03:11:36\n",
      "Now downloading tl_2024_45_cd119.zip, 2025-02-08, 03:11:37\n",
      "Now downloading tl_2024_46_cd119.zip, 2025-02-08, 03:11:37\n",
      "Now downloading tl_2024_47_cd119.zip, 2025-02-08, 03:11:37\n",
      "Now downloading tl_2024_48_cd119.zip, 2025-02-08, 03:11:38\n",
      "Now downloading tl_2024_49_cd119.zip, 2025-02-08, 03:11:39\n",
      "Now downloading tl_2024_50_cd119.zip, 2025-02-08, 03:11:39\n",
      "Now downloading tl_2024_51_cd119.zip, 2025-02-08, 03:11:40\n",
      "Now downloading tl_2024_53_cd119.zip, 2025-02-08, 03:11:40\n",
      "Now downloading tl_2024_54_cd119.zip, 2025-02-08, 03:11:40\n",
      "Now downloading tl_2024_55_cd119.zip, 2025-02-08, 03:11:41\n",
      "Now downloading tl_2024_56_cd119.zip, 2025-02-08, 03:11:42\n",
      "Now downloading tl_2024_60_cd119.zip, 2025-02-08, 03:11:42\n",
      "Now downloading tl_2024_66_cd119.zip, 2025-02-08, 03:11:42\n",
      "Now downloading tl_2024_69_cd119.zip, 2025-02-08, 03:11:42\n",
      "Now downloading tl_2024_72_cd119.zip, 2025-02-08, 03:11:43\n",
      "Now downloading tl_2024_78_cd119.zip, 2025-02-08, 03:11:43\n"
     ]
    }
   ],
   "source": [
    "# start the download\n",
    "for i in range(len(all_links)):\n",
    "    if os.path.exists(all_links[i]):\n",
    "        print(f\"File {all_links[i]} exists.\")\n",
    "    else:\n",
    "        print(f'Now downloading {all_links[i]}, {tm.strftime(\"%Y-%m-%d, %H:%M:%S\")}')\n",
    "        request.urlretrieve(full_urls[i], all_links[i])"
   ]
  },
  {
   "cell_type": "markdown",
   "id": "cf129cc0",
   "metadata": {},
   "source": [
    "# Unzip Downloaded Folders"
   ]
  },
  {
   "cell_type": "code",
   "execution_count": 19,
   "id": "3ca1924e",
   "metadata": {},
   "outputs": [],
   "source": [
    "from zipfile import ZipFile"
   ]
  },
  {
   "cell_type": "code",
   "execution_count": 20,
   "id": "0ab12ece",
   "metadata": {},
   "outputs": [
    {
     "name": "stdout",
     "output_type": "stream",
     "text": [
      "copy directory here, and then press enter: ········\n"
     ]
    }
   ],
   "source": [
    "os.chdir('{0}'.format(getpass.getpass('copy directory here, and then press enter: ')))"
   ]
  },
  {
   "cell_type": "code",
   "execution_count": 23,
   "id": "efdb829f",
   "metadata": {},
   "outputs": [],
   "source": [
    "zip_files_list = [f for f in os.listdir() if f.endswith(\".zip\")]\n",
    "folder_names = [f.split(\".\")[0] for f in zip_files_list]"
   ]
  },
  {
   "cell_type": "code",
   "execution_count": 25,
   "id": "847467b8",
   "metadata": {},
   "outputs": [],
   "source": [
    "# create folders to store the unzipped files\n",
    "for i in range(len(zip_files_list)):\n",
    "    if not os.path.exists(folder_names[i]):\n",
    "        os.makedirs(folder_names[i])\n",
    "    else:\n",
    "        print(f\"Folder {folder_names[i]} exists.\")"
   ]
  },
  {
   "cell_type": "code",
   "execution_count": 26,
   "id": "c43a0930",
   "metadata": {},
   "outputs": [
    {
     "name": "stdout",
     "output_type": "stream",
     "text": [
      "Processing tl_2024_44_cd119.zip, 2025-02-08, 03:19:24\n",
      "Processing tl_2024_50_cd119.zip, 2025-02-08, 03:19:24\n",
      "Processing tl_2024_49_cd119.zip, 2025-02-08, 03:19:24\n",
      "Processing tl_2024_33_cd119.zip, 2025-02-08, 03:19:24\n",
      "Processing tl_2024_27_cd119.zip, 2025-02-08, 03:19:24\n",
      "Processing tl_2024_06_cd119.zip, 2025-02-08, 03:19:24\n",
      "Processing tl_2024_12_cd119.zip, 2025-02-08, 03:19:24\n",
      "Processing tl_2024_19_cd119.zip, 2025-02-08, 03:19:24\n",
      "Processing tl_2024_38_cd119.zip, 2025-02-08, 03:19:24\n",
      "Processing tl_2024_42_cd119.zip, 2025-02-08, 03:19:24\n",
      "Processing tl_2024_56_cd119.zip, 2025-02-08, 03:19:24\n",
      "Processing tl_2024_35_cd119.zip, 2025-02-08, 03:19:24\n",
      "Processing tl_2024_21_cd119.zip, 2025-02-08, 03:19:24\n",
      "Processing tl_2024_51_cd119.zip, 2025-02-08, 03:19:24\n",
      "Processing tl_2024_45_cd119.zip, 2025-02-08, 03:19:24\n",
      "Processing tl_2024_26_cd119.zip, 2025-02-08, 03:19:24\n",
      "Processing tl_2024_48_cd119.zip, 2025-02-08, 03:19:24\n",
      "Processing tl_2024_32_cd119.zip, 2025-02-08, 03:19:24\n",
      "Processing tl_2024_69_cd119.zip, 2025-02-08, 03:19:24\n",
      "Processing tl_2024_13_cd119.zip, 2025-02-08, 03:19:24\n",
      "Processing tl_2024_18_cd119.zip, 2025-02-08, 03:19:24\n",
      "Processing tl_2024_39_cd119.zip, 2025-02-08, 03:19:24\n",
      "Processing tl_2024_15_cd119.zip, 2025-02-08, 03:19:24\n",
      "Processing tl_2024_01_cd119.zip, 2025-02-08, 03:19:24\n",
      "Processing tl_2024_20_cd119.zip, 2025-02-08, 03:19:24\n",
      "Processing tl_2024_34_cd119.zip, 2025-02-08, 03:19:24\n",
      "Processing tl_2024_09_cd119.zip, 2025-02-08, 03:19:24\n",
      "Processing tl_2024_46_cd119.zip, 2025-02-08, 03:19:24\n",
      "Processing tl_2024_28_cd119.zip, 2025-02-08, 03:19:24\n",
      "Processing tl_2024_04_cd119.zip, 2025-02-08, 03:19:24\n",
      "Processing tl_2024_10_cd119.zip, 2025-02-08, 03:19:24\n",
      "Processing tl_2024_31_cd119.zip, 2025-02-08, 03:19:24\n",
      "Processing tl_2024_25_cd119.zip, 2025-02-08, 03:19:24\n",
      "Processing tl_2024_40_cd119.zip, 2025-02-08, 03:19:24\n",
      "Processing tl_2024_54_cd119.zip, 2025-02-08, 03:19:24\n",
      "Processing tl_2024_37_cd119.zip, 2025-02-08, 03:19:24\n",
      "Processing tl_2024_23_cd119.zip, 2025-02-08, 03:19:24\n",
      "Processing tl_2024_78_cd119.zip, 2025-02-08, 03:19:24\n",
      "Processing tl_2024_02_cd119.zip, 2025-02-08, 03:19:24\n",
      "Processing tl_2024_16_cd119.zip, 2025-02-08, 03:19:24\n",
      "Processing tl_2024_66_cd119.zip, 2025-02-08, 03:19:24\n",
      "Processing tl_2024_08_cd119.zip, 2025-02-08, 03:19:24\n",
      "Processing tl_2024_72_cd119.zip, 2025-02-08, 03:19:24\n",
      "Processing tl_2024_29_cd119.zip, 2025-02-08, 03:19:24\n",
      "Processing tl_2024_53_cd119.zip, 2025-02-08, 03:19:24\n",
      "Processing tl_2024_47_cd119.zip, 2025-02-08, 03:19:24\n",
      "Processing tl_2024_11_cd119.zip, 2025-02-08, 03:19:24\n",
      "Processing tl_2024_05_cd119.zip, 2025-02-08, 03:19:24\n",
      "Processing tl_2024_24_cd119.zip, 2025-02-08, 03:19:24\n",
      "Processing tl_2024_30_cd119.zip, 2025-02-08, 03:19:24\n",
      "Processing tl_2024_55_cd119.zip, 2025-02-08, 03:19:24\n",
      "Processing tl_2024_41_cd119.zip, 2025-02-08, 03:19:24\n",
      "Processing tl_2024_60_cd119.zip, 2025-02-08, 03:19:24\n",
      "Processing tl_2024_22_cd119.zip, 2025-02-08, 03:19:24\n",
      "Processing tl_2024_36_cd119.zip, 2025-02-08, 03:19:24\n",
      "Processing tl_2024_17_cd119.zip, 2025-02-08, 03:19:24\n"
     ]
    }
   ],
   "source": [
    "# unzip\n",
    "for i in range(len(zip_files_list)):\n",
    "    if len(os.listdir(folder_names[i])) < 1:\n",
    "        with ZipFile(zip_files_list[i]) as zip_need_extract:\n",
    "            print(f'Processing {zip_files_list[i]}, {tm.strftime(\"%Y-%m-%d, %H:%M:%S\")}')\n",
    "            zip_need_extract.extractall(path = folder_names[i])\n",
    "    else: \n",
    "        print(f'{zip_files_list[i]} has been extracted.')\n",
    "        print(os.listdir(folder_names[i]))"
   ]
  }
 ],
 "metadata": {
  "hide_input": false,
  "kernelspec": {
   "display_name": "python3.12.1",
   "language": "python",
   "name": "py312"
  },
  "language_info": {
   "codemirror_mode": {
    "name": "ipython",
    "version": 3
   },
   "file_extension": ".py",
   "mimetype": "text/x-python",
   "name": "python",
   "nbconvert_exporter": "python",
   "pygments_lexer": "ipython3",
   "version": "3.12.2"
  },
  "toc": {
   "base_numbering": 1,
   "nav_menu": {},
   "number_sections": true,
   "sideBar": true,
   "skip_h1_title": false,
   "title_cell": "Table of Contents",
   "title_sidebar": "Contents",
   "toc_cell": false,
   "toc_position": {},
   "toc_section_display": true,
   "toc_window_display": false
  },
  "varInspector": {
   "cols": {
    "lenName": 16,
    "lenType": 16,
    "lenVar": 40
   },
   "kernels_config": {
    "python": {
     "delete_cmd_postfix": "",
     "delete_cmd_prefix": "del ",
     "library": "var_list.py",
     "varRefreshCmd": "print(var_dic_list())"
    },
    "r": {
     "delete_cmd_postfix": ") ",
     "delete_cmd_prefix": "rm(",
     "library": "var_list.r",
     "varRefreshCmd": "cat(var_dic_list()) "
    }
   },
   "types_to_exclude": [
    "module",
    "function",
    "builtin_function_or_method",
    "instance",
    "_Feature"
   ],
   "window_display": false
  }
 },
 "nbformat": 4,
 "nbformat_minor": 5
}
