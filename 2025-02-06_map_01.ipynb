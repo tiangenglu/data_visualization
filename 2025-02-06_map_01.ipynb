{
 "cells": [
  {
   "cell_type": "code",
   "execution_count": 1,
   "id": "07af9415",
   "metadata": {},
   "outputs": [
    {
     "name": "stdout",
     "output_type": "stream",
     "text": [
      "Last run on 2025-02-07, Friday, 00:30:50\n",
      "1.9.6\n",
      "0.14.2\n"
     ]
    }
   ],
   "source": [
    "import os\n",
    "import time as tm\n",
    "import getpass\n",
    "print(f'Last run on {tm.strftime(\"%Y-%m-%d, %A, %H:%M:%S\")}')\n",
    "import pandas as pd\n",
    "import geopandas as gpd\n",
    "from matplotlib import pyplot as plt\n",
    "import folium\n",
    "import fiona\n",
    "print(fiona.__version__)\n",
    "print(gpd.__version__)"
   ]
  },
  {
   "cell_type": "code",
   "execution_count": 2,
   "id": "a2aacae0",
   "metadata": {},
   "outputs": [
    {
     "name": "stdout",
     "output_type": "stream",
     "text": [
      "type input_folder here:········\n"
     ]
    }
   ],
   "source": [
    "# hide actual path from computer\n",
    "input_folder = '{0}'.format(getpass.getpass('type input_folder here:'))"
   ]
  },
  {
   "cell_type": "code",
   "execution_count": 3,
   "id": "cf5dc7c5",
   "metadata": {},
   "outputs": [
    {
     "name": "stdout",
     "output_type": "stream",
     "text": [
      "['tl_2024_42_tabblock20.prj', 'tl_2024_42_tabblock20.shp.ea.iso.xml', 'tl_2024_42_tabblock20.shp', 'tl_2024_42_tabblock20.cpg', 'tl_2024_42_tabblock20.shx', 'tl_2024_42_tabblock20.shp.iso.xml', 'tl_2024_42_tabblock20.dbf']\n"
     ]
    }
   ],
   "source": [
    "print(os.listdir(input_folder))"
   ]
  },
  {
   "cell_type": "code",
   "execution_count": 6,
   "id": "4bcb5769",
   "metadata": {},
   "outputs": [
    {
     "name": "stdout",
     "output_type": "stream",
     "text": [
      "00:36:45\n",
      "00:38:14\n"
     ]
    }
   ],
   "source": [
    "print(tm.strftime(\"%H:%M:%S\"))\n",
    "dbf_blk_42=gpd.read_file(input_folder +'/tl_2024_42_tabblock20.dbf')\n",
    "print(tm.strftime(\"%H:%M:%S\"))"
   ]
  },
  {
   "cell_type": "code",
   "execution_count": 7,
   "id": "f379e2d5",
   "metadata": {},
   "outputs": [
    {
     "data": {
      "text/plain": [
       "geopandas.geodataframe.GeoDataFrame"
      ]
     },
     "execution_count": 7,
     "metadata": {},
     "output_type": "execute_result"
    }
   ],
   "source": [
    "type(dbf_blk_42)"
   ]
  },
  {
   "cell_type": "code",
   "execution_count": 8,
   "id": "9d3f1e64",
   "metadata": {},
   "outputs": [
    {
     "name": "stdout",
     "output_type": "stream",
     "text": [
      "<class 'geopandas.geodataframe.GeoDataFrame'>\n",
      "RangeIndex: 336985 entries, 0 to 336984\n",
      "Data columns (total 18 columns):\n",
      " #   Column      Non-Null Count   Dtype   \n",
      "---  ------      --------------   -----   \n",
      " 0   STATEFP20   336985 non-null  object  \n",
      " 1   COUNTYFP20  336985 non-null  object  \n",
      " 2   TRACTCE20   336985 non-null  object  \n",
      " 3   BLOCKCE20   336985 non-null  object  \n",
      " 4   GEOID20     336985 non-null  object  \n",
      " 5   GEOIDFQ20   336985 non-null  object  \n",
      " 6   NAME20      336985 non-null  object  \n",
      " 7   MTFCC20     336985 non-null  object  \n",
      " 8   UR20        336985 non-null  object  \n",
      " 9   UACE20      197375 non-null  object  \n",
      " 10  FUNCSTAT20  336985 non-null  object  \n",
      " 11  ALAND20     336985 non-null  int64   \n",
      " 12  AWATER20    336985 non-null  int64   \n",
      " 13  INTPTLAT20  336985 non-null  object  \n",
      " 14  INTPTLON20  336985 non-null  object  \n",
      " 15  HOUSING20   336985 non-null  int64   \n",
      " 16  POP20       336985 non-null  int64   \n",
      " 17  geometry    336985 non-null  geometry\n",
      "dtypes: geometry(1), int64(4), object(13)\n",
      "memory usage: 46.3+ MB\n"
     ]
    }
   ],
   "source": [
    "dbf_blk_42.info()"
   ]
  },
  {
   "cell_type": "code",
   "execution_count": null,
   "id": "f8c2bb56",
   "metadata": {},
   "outputs": [],
   "source": []
  }
 ],
 "metadata": {
  "hide_input": false,
  "kernelspec": {
   "display_name": "python3.12.1",
   "language": "python",
   "name": "py312"
  },
  "language_info": {
   "codemirror_mode": {
    "name": "ipython",
    "version": 3
   },
   "file_extension": ".py",
   "mimetype": "text/x-python",
   "name": "python",
   "nbconvert_exporter": "python",
   "pygments_lexer": "ipython3",
   "version": "3.12.2"
  },
  "toc": {
   "base_numbering": 1,
   "nav_menu": {},
   "number_sections": true,
   "sideBar": true,
   "skip_h1_title": false,
   "title_cell": "Table of Contents",
   "title_sidebar": "Contents",
   "toc_cell": false,
   "toc_position": {},
   "toc_section_display": true,
   "toc_window_display": false
  },
  "varInspector": {
   "cols": {
    "lenName": 16,
    "lenType": 16,
    "lenVar": 40
   },
   "kernels_config": {
    "python": {
     "delete_cmd_postfix": "",
     "delete_cmd_prefix": "del ",
     "library": "var_list.py",
     "varRefreshCmd": "print(var_dic_list())"
    },
    "r": {
     "delete_cmd_postfix": ") ",
     "delete_cmd_prefix": "rm(",
     "library": "var_list.r",
     "varRefreshCmd": "cat(var_dic_list()) "
    }
   },
   "types_to_exclude": [
    "module",
    "function",
    "builtin_function_or_method",
    "instance",
    "_Feature"
   ],
   "window_display": false
  }
 },
 "nbformat": 4,
 "nbformat_minor": 5
}
